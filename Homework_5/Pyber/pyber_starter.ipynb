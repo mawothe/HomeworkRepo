{
 "cells": [
  {
   "cell_type": "code",
   "execution_count": 24,
   "metadata": {},
   "outputs": [
    {
     "data": {
      "text/html": [
       "<div>\n",
       "<style scoped>\n",
       "    .dataframe tbody tr th:only-of-type {\n",
       "        vertical-align: middle;\n",
       "    }\n",
       "\n",
       "    .dataframe tbody tr th {\n",
       "        vertical-align: top;\n",
       "    }\n",
       "\n",
       "    .dataframe thead th {\n",
       "        text-align: right;\n",
       "    }\n",
       "</style>\n",
       "<table border=\"1\" class=\"dataframe\">\n",
       "  <thead>\n",
       "    <tr style=\"text-align: right;\">\n",
       "      <th></th>\n",
       "      <th>city</th>\n",
       "      <th>date</th>\n",
       "      <th>fare</th>\n",
       "      <th>ride_id</th>\n",
       "      <th>driver_count</th>\n",
       "      <th>type</th>\n",
       "    </tr>\n",
       "  </thead>\n",
       "  <tbody>\n",
       "    <tr>\n",
       "      <th>0</th>\n",
       "      <td>Lake Jonathanshire</td>\n",
       "      <td>2018-01-14 10:14:22</td>\n",
       "      <td>13.83</td>\n",
       "      <td>5739410935873</td>\n",
       "      <td>5</td>\n",
       "      <td>Urban</td>\n",
       "    </tr>\n",
       "    <tr>\n",
       "      <th>1</th>\n",
       "      <td>South Michelleport</td>\n",
       "      <td>2018-03-04 18:24:09</td>\n",
       "      <td>30.24</td>\n",
       "      <td>2343912425577</td>\n",
       "      <td>72</td>\n",
       "      <td>Urban</td>\n",
       "    </tr>\n",
       "    <tr>\n",
       "      <th>2</th>\n",
       "      <td>Port Samanthamouth</td>\n",
       "      <td>2018-02-24 04:29:00</td>\n",
       "      <td>33.44</td>\n",
       "      <td>2005065760003</td>\n",
       "      <td>57</td>\n",
       "      <td>Urban</td>\n",
       "    </tr>\n",
       "    <tr>\n",
       "      <th>3</th>\n",
       "      <td>Rodneyfort</td>\n",
       "      <td>2018-02-10 23:22:03</td>\n",
       "      <td>23.44</td>\n",
       "      <td>5149245426178</td>\n",
       "      <td>34</td>\n",
       "      <td>Urban</td>\n",
       "    </tr>\n",
       "    <tr>\n",
       "      <th>4</th>\n",
       "      <td>South Jack</td>\n",
       "      <td>2018-03-06 04:28:35</td>\n",
       "      <td>34.58</td>\n",
       "      <td>3908451377344</td>\n",
       "      <td>46</td>\n",
       "      <td>Urban</td>\n",
       "    </tr>\n",
       "  </tbody>\n",
       "</table>\n",
       "</div>"
      ],
      "text/plain": [
       "                 city                 date   fare        ride_id  \\\n",
       "0  Lake Jonathanshire  2018-01-14 10:14:22  13.83  5739410935873   \n",
       "1  South Michelleport  2018-03-04 18:24:09  30.24  2343912425577   \n",
       "2  Port Samanthamouth  2018-02-24 04:29:00  33.44  2005065760003   \n",
       "3          Rodneyfort  2018-02-10 23:22:03  23.44  5149245426178   \n",
       "4          South Jack  2018-03-06 04:28:35  34.58  3908451377344   \n",
       "\n",
       "   driver_count   type  \n",
       "0             5  Urban  \n",
       "1            72  Urban  \n",
       "2            57  Urban  \n",
       "3            34  Urban  \n",
       "4            46  Urban  "
      ]
     },
     "execution_count": 24,
     "metadata": {},
     "output_type": "execute_result"
    }
   ],
   "source": [
    "#Marie Wothe; Homework 5 - Matplotlib\n",
    "\n",
    "%matplotlib inline\n",
    "# Dependencies and Setup\n",
    "import matplotlib.pyplot as plt\n",
    "import pandas as pd\n",
    "import numpy as np\n",
    "\n",
    "# File to Load (Remember to change these)\n",
    "city_data_to_load = \"data/city_data.csv\"\n",
    "ride_data_to_load = \"data/ride_data.csv\"\n",
    "\n",
    "# Read the City and Ride Data\n",
    "city_data = pd.read_csv(city_data_to_load)\n",
    "ride_data = pd.read_csv(ride_data_to_load)\n",
    "\n",
    "# Combine the data into a single dataset\n",
    "city_ride = pd.merge(ride_data, city_data,\n",
    "                                 how='left', on='city')\n",
    "\n",
    "# Display the data table for preview\n",
    "city_ride.head()"
   ]
  },
  {
   "cell_type": "code",
   "execution_count": 60,
   "metadata": {
    "scrolled": true
   },
   "outputs": [
    {
     "data": {
      "text/html": [
       "<div>\n",
       "<style scoped>\n",
       "    .dataframe tbody tr th:only-of-type {\n",
       "        vertical-align: middle;\n",
       "    }\n",
       "\n",
       "    .dataframe tbody tr th {\n",
       "        vertical-align: top;\n",
       "    }\n",
       "\n",
       "    .dataframe thead th {\n",
       "        text-align: right;\n",
       "    }\n",
       "</style>\n",
       "<table border=\"1\" class=\"dataframe\">\n",
       "  <thead>\n",
       "    <tr style=\"text-align: right;\">\n",
       "      <th></th>\n",
       "      <th>Urban Ride Count</th>\n",
       "      <th>Total Drivers</th>\n",
       "      <th>Average Fare</th>\n",
       "    </tr>\n",
       "    <tr>\n",
       "      <th>city</th>\n",
       "      <th></th>\n",
       "      <th></th>\n",
       "      <th></th>\n",
       "    </tr>\n",
       "  </thead>\n",
       "  <tbody>\n",
       "    <tr>\n",
       "      <th>Amandaburgh</th>\n",
       "      <td>18.0</td>\n",
       "      <td>12.0</td>\n",
       "      <td>24.641667</td>\n",
       "    </tr>\n",
       "    <tr>\n",
       "      <th>Barajasview</th>\n",
       "      <td>22.0</td>\n",
       "      <td>26.0</td>\n",
       "      <td>25.332273</td>\n",
       "    </tr>\n",
       "    <tr>\n",
       "      <th>Carriemouth</th>\n",
       "      <td>27.0</td>\n",
       "      <td>52.0</td>\n",
       "      <td>28.314444</td>\n",
       "    </tr>\n",
       "    <tr>\n",
       "      <th>Christopherfurt</th>\n",
       "      <td>27.0</td>\n",
       "      <td>41.0</td>\n",
       "      <td>24.501852</td>\n",
       "    </tr>\n",
       "    <tr>\n",
       "      <th>Deanville</th>\n",
       "      <td>19.0</td>\n",
       "      <td>49.0</td>\n",
       "      <td>25.842632</td>\n",
       "    </tr>\n",
       "  </tbody>\n",
       "</table>\n",
       "</div>"
      ],
      "text/plain": [
       "                 Urban Ride Count  Total Drivers  Average Fare\n",
       "city                                                          \n",
       "Amandaburgh                  18.0           12.0     24.641667\n",
       "Barajasview                  22.0           26.0     25.332273\n",
       "Carriemouth                  27.0           52.0     28.314444\n",
       "Christopherfurt              27.0           41.0     24.501852\n",
       "Deanville                    19.0           49.0     25.842632"
      ]
     },
     "execution_count": 60,
     "metadata": {},
     "output_type": "execute_result"
    }
   ],
   "source": [
    "#Series for Urban drivers - average fare, ride count, and total drivers\n",
    "urban_ride = city_ride[city_ride.type==\"Urban\"].groupby(\"city\")[\"ride_id\"].count()\n",
    "urban_drivers = city_ride[city_ride.type==\"Urban\"].groupby(\"city\")[\"driver_count\"].mean()\n",
    "urban_fare = city_ride[city_ride.type==\"Urban\"].groupby(\"city\")[\"fare\"].mean()\n",
    "\n",
    "#make Dataframe\n",
    "urban_series = [urban_ride, urban_drivers, urban_fare]\n",
    "urban_df = pd.DataFrame(urban_series)\n",
    "urban_df = urban_df.transpose()\n",
    "\n",
    "#Rename Columns\n",
    "urban_df = urban_df.rename(columns=\\\n",
    "                           {\"ride_id\":\"Urban Ride Count\",\"driver_count\":\"Total Drivers\",\"fare\":\"Average Fare\"})\n",
    "urban_df.head()"
   ]
  },
  {
   "cell_type": "code",
   "execution_count": 58,
   "metadata": {},
   "outputs": [
    {
     "data": {
      "text/html": [
       "<div>\n",
       "<style scoped>\n",
       "    .dataframe tbody tr th:only-of-type {\n",
       "        vertical-align: middle;\n",
       "    }\n",
       "\n",
       "    .dataframe tbody tr th {\n",
       "        vertical-align: top;\n",
       "    }\n",
       "\n",
       "    .dataframe thead th {\n",
       "        text-align: right;\n",
       "    }\n",
       "</style>\n",
       "<table border=\"1\" class=\"dataframe\">\n",
       "  <thead>\n",
       "    <tr style=\"text-align: right;\">\n",
       "      <th></th>\n",
       "      <th>Suburban Ride Count</th>\n",
       "      <th>Total Drivers</th>\n",
       "      <th>Average Fare</th>\n",
       "    </tr>\n",
       "    <tr>\n",
       "      <th>city</th>\n",
       "      <th></th>\n",
       "      <th></th>\n",
       "      <th></th>\n",
       "    </tr>\n",
       "  </thead>\n",
       "  <tbody>\n",
       "    <tr>\n",
       "      <th>Barronchester</th>\n",
       "      <td>16.0</td>\n",
       "      <td>11.0</td>\n",
       "      <td>36.422500</td>\n",
       "    </tr>\n",
       "    <tr>\n",
       "      <th>Bethanyland</th>\n",
       "      <td>18.0</td>\n",
       "      <td>22.0</td>\n",
       "      <td>32.956111</td>\n",
       "    </tr>\n",
       "    <tr>\n",
       "      <th>Brandonfort</th>\n",
       "      <td>19.0</td>\n",
       "      <td>10.0</td>\n",
       "      <td>35.437368</td>\n",
       "    </tr>\n",
       "    <tr>\n",
       "      <th>Colemanland</th>\n",
       "      <td>22.0</td>\n",
       "      <td>23.0</td>\n",
       "      <td>30.894545</td>\n",
       "    </tr>\n",
       "    <tr>\n",
       "      <th>Davidfurt</th>\n",
       "      <td>17.0</td>\n",
       "      <td>23.0</td>\n",
       "      <td>31.995882</td>\n",
       "    </tr>\n",
       "  </tbody>\n",
       "</table>\n",
       "</div>"
      ],
      "text/plain": [
       "               Suburban Ride Count  Total Drivers  Average Fare\n",
       "city                                                           \n",
       "Barronchester                 16.0           11.0     36.422500\n",
       "Bethanyland                   18.0           22.0     32.956111\n",
       "Brandonfort                   19.0           10.0     35.437368\n",
       "Colemanland                   22.0           23.0     30.894545\n",
       "Davidfurt                     17.0           23.0     31.995882"
      ]
     },
     "execution_count": 58,
     "metadata": {},
     "output_type": "execute_result"
    }
   ],
   "source": [
    "#Dataframe for Suburban Drivers\n",
    "#Series for suburban drivers - average fare, ride count, and total drivers\n",
    "sub_ride = city_ride[city_ride.type==\"Suburban\"].groupby(\"city\")[\"ride_id\"].count()\n",
    "sub_drivers = city_ride[city_ride.type==\"Suburban\"].groupby(\"city\")[\"driver_count\"].mean()\n",
    "sub_fare = city_ride[city_ride.type==\"Suburban\"].groupby(\"city\")[\"fare\"].mean()\n",
    "\n",
    "#make Dataframe\n",
    "sub_series = [sub_ride, sub_drivers, sub_fare]\n",
    "sub_df = pd.DataFrame(sub_series)\n",
    "sub_df = sub_df.transpose()\n",
    "\n",
    "#Rename Columns\n",
    "sub_df = sub_df.rename(columns=\\\n",
    "                           {\"ride_id\":\"Suburban Ride Count\",\"driver_count\":\"Total Drivers\",\"fare\":\"Average Fare\"})\n",
    "sub_df.head()"
   ]
  },
  {
   "cell_type": "code",
   "execution_count": 71,
   "metadata": {},
   "outputs": [
    {
     "data": {
      "text/html": [
       "<div>\n",
       "<style scoped>\n",
       "    .dataframe tbody tr th:only-of-type {\n",
       "        vertical-align: middle;\n",
       "    }\n",
       "\n",
       "    .dataframe tbody tr th {\n",
       "        vertical-align: top;\n",
       "    }\n",
       "\n",
       "    .dataframe thead th {\n",
       "        text-align: right;\n",
       "    }\n",
       "</style>\n",
       "<table border=\"1\" class=\"dataframe\">\n",
       "  <thead>\n",
       "    <tr style=\"text-align: right;\">\n",
       "      <th></th>\n",
       "      <th>Rural Ride Count</th>\n",
       "      <th>Total Drivers</th>\n",
       "      <th>Average Fare</th>\n",
       "    </tr>\n",
       "    <tr>\n",
       "      <th>city</th>\n",
       "      <th></th>\n",
       "      <th></th>\n",
       "      <th></th>\n",
       "    </tr>\n",
       "  </thead>\n",
       "  <tbody>\n",
       "    <tr>\n",
       "      <th>Bradshawfurt</th>\n",
       "      <td>10.0</td>\n",
       "      <td>7.0</td>\n",
       "      <td>40.064000</td>\n",
       "    </tr>\n",
       "    <tr>\n",
       "      <th>Garzaport</th>\n",
       "      <td>3.0</td>\n",
       "      <td>7.0</td>\n",
       "      <td>24.123333</td>\n",
       "    </tr>\n",
       "    <tr>\n",
       "      <th>Harringtonfort</th>\n",
       "      <td>6.0</td>\n",
       "      <td>4.0</td>\n",
       "      <td>33.470000</td>\n",
       "    </tr>\n",
       "    <tr>\n",
       "      <th>Jessicaport</th>\n",
       "      <td>6.0</td>\n",
       "      <td>1.0</td>\n",
       "      <td>36.013333</td>\n",
       "    </tr>\n",
       "    <tr>\n",
       "      <th>Lake Jamie</th>\n",
       "      <td>6.0</td>\n",
       "      <td>4.0</td>\n",
       "      <td>34.358333</td>\n",
       "    </tr>\n",
       "  </tbody>\n",
       "</table>\n",
       "</div>"
      ],
      "text/plain": [
       "                Rural Ride Count  Total Drivers  Average Fare\n",
       "city                                                         \n",
       "Bradshawfurt                10.0            7.0     40.064000\n",
       "Garzaport                    3.0            7.0     24.123333\n",
       "Harringtonfort               6.0            4.0     33.470000\n",
       "Jessicaport                  6.0            1.0     36.013333\n",
       "Lake Jamie                   6.0            4.0     34.358333"
      ]
     },
     "execution_count": 71,
     "metadata": {},
     "output_type": "execute_result"
    }
   ],
   "source": [
    "#Dataframe for Rural Drivers\n",
    "#Series for rural drivers - average fare, ride count, and total drivers\n",
    "rural_ride = city_ride[city_ride.type==\"Rural\"].groupby(\"city\")[\"ride_id\"].count()\n",
    "rural_drivers = city_ride[city_ride.type==\"Rural\"].groupby(\"city\")[\"driver_count\"].mean()\n",
    "rural_fare = city_ride[city_ride.type==\"Rural\"].groupby(\"city\")[\"fare\"].mean()\n",
    "\n",
    "#make Dataframe\n",
    "rural_series = [rural_ride, rural_drivers, rural_fare]\n",
    "rural_df = pd.DataFrame(rural_series)\n",
    "rural_df = rural_df.transpose()\n",
    "\n",
    "#Rename Columns\n",
    "rural_df = rural_df.rename(columns=\\\n",
    "                           {\"ride_id\":\"Rural Ride Count\",\"driver_count\":\"Total Drivers\",\"fare\":\"Average Fare\"})\n",
    "rural_df.head()"
   ]
  },
  {
   "cell_type": "code",
   "execution_count": null,
   "metadata": {
    "scrolled": true
   },
   "outputs": [],
   "source": []
  },
  {
   "cell_type": "markdown",
   "metadata": {},
   "source": [
    "## Bubble Plot of Ride Sharing Data"
   ]
  },
  {
   "cell_type": "code",
   "execution_count": 119,
   "metadata": {},
   "outputs": [
    {
     "data": {
      "image/png": "[encoded data removed]",
      "text/plain": [
       "<Figure size 432x288 with 1 Axes>"
      ]
     },
     "metadata": {
      "needs_background": "light"
     },
     "output_type": "display_data"
    }
   ],
   "source": [
    "# Obtain the x and y coordinates for each of the three city types\n",
    "\n",
    "x_axis_u = urban_df[\"Urban Ride Count\"]\n",
    "y_axis_u = urban_df[\"Average Fare\"]\n",
    "\n",
    "x_axis_s = sub_df[\"Suburban Ride Count\"]\n",
    "y_axis_s = sub_df[\"Average Fare\"]\n",
    "\n",
    "x_axis_r = rural_df[\"Rural Ride Count\"]\n",
    "y_axis_r = rural_df[\"Average Fare\"]\n",
    "\n",
    "# Build the scatter plots for each city types\n",
    "urban_fig = plt.scatter(x_axis_u, y_axis_u, marker=\"o\", facecolors=\"pink\", edgecolors=\"black\",\n",
    "            s=x_axis_u*10, alpha=0.75)\n",
    "\n",
    "sub_fig= plt.scatter(x_axis_s, y_axis_s, marker=\"o\", facecolors=\"lightblue\", edgecolors=\"black\",\n",
    "            s=x_axis_s*10, alpha=0.75)\n",
    "\n",
    "rural_fig = plt.scatter(x_axis_r, y_axis_r, marker=\"o\", facecolors=\"yellow\", edgecolors=\"black\",\n",
    "            s=x_axis_r*10, alpha=0.75)\n",
    "\n",
    "# Incorporate the other graph properties\n",
    "#add grid, make handles, add axis titles and the side note\n",
    "# Create a legend\n",
    "\n",
    "# Incorporate a text label regarding circle size\n",
    "\n",
    "# Save Figure\n"
   ]
  },
  {
   "cell_type": "code",
   "execution_count": null,
   "metadata": {},
   "outputs": [],
   "source": [
    "# Show plot\n",
    "plt.show()"
   ]
  },
  {
   "cell_type": "markdown",
   "metadata": {},
   "source": [
    "## Total Fares by City Type"
   ]
  },
  {
   "cell_type": "code",
   "execution_count": 105,
   "metadata": {},
   "outputs": [
    {
     "data": {
      "image/png": "[encoded data removed]",
      "text/plain": [
       "<Figure size 432x288 with 1 Axes>"
      ]
     },
     "metadata": {},
     "output_type": "display_data"
    }
   ],
   "source": [
    "# Calculate Type Percents\n",
    "total_fare = city_ride[\"fare\"].sum()\n",
    "\n",
    "#Calculate city type totals\n",
    "urban_total = city_ride[city_ride.type==\"Urban\"][\"fare\"].sum()\n",
    "sub_total = city_ride[city_ride.type==\"Suburban\"][\"fare\"].sum()\n",
    "rural_total = city_ride[city_ride.type==\"Rural\"][\"fare\"].sum()\n",
    "\n",
    "#urban_fare = round(/total_ride*100, 2)\n",
    "urban_fare = round(urban_total/total_ride*100, 2)\n",
    "sub_fare = round(sub_total/total_ride*100, 2)\n",
    "rural_fare = round(rural_total/total_ride*100, 2)\n",
    "\n",
    "percent_fare = [urban_fare, sub_fare, rural_fare]\n",
    "\n",
    "explode= [0.1, 0, 0]\n",
    "labels = [\"Urban\", \"Suburban\", \"Rural\"]\n",
    "colors = [\"pink\", \"lightblue\", \"yellow\"]\n",
    "\n",
    "# Build Pie Chart\n",
    "plt.title(\"% of Total Fares by City Type\")\n",
    "fare_fig = plt.pie(percent_fare, explode=explode, labels=labels, colors=colors,\n",
    "        autopct=\"%1.1f%%\", shadow=True, startangle=200)\n",
    "# Save Figure\n",
    "#plt.savefig(\"../Images/RideCountPercents.png\")"
   ]
  },
  {
   "cell_type": "code",
   "execution_count": null,
   "metadata": {},
   "outputs": [],
   "source": [
    "# Show Figure\n",
    "plt.show()"
   ]
  },
  {
   "cell_type": "markdown",
   "metadata": {},
   "source": [
    "## Total Rides by City Type"
   ]
  },
  {
   "cell_type": "code",
   "execution_count": 106,
   "metadata": {},
   "outputs": [
    {
     "data": {
      "image/png": "[encoded data removed]",
      "text/plain": [
       "<Figure size 432x288 with 1 Axes>"
      ]
     },
     "metadata": {},
     "output_type": "display_data"
    }
   ],
   "source": [
    "# Calculate Ride Percents\n",
    "total_ride = urban_df[\"Urban Ride Count\"].sum() + sub_df[\"Suburban Ride Count\"].sum()\\\n",
    "            + rural_df[\"Rural Ride Count\"].sum()\n",
    "\n",
    "#Percent list to hold values\n",
    "\n",
    "urban_perc = round(urban_df[\"Urban Ride Count\"].sum()/total_ride*100, 2)\n",
    "sub_perc = round(sub_df[\"Suburban Ride Count\"].sum()/total_ride*100, 2)\n",
    "rural_perc = round(rural_df[\"Rural Ride Count\"].sum()/total_ride*100, 2)\n",
    "\n",
    "Percent_ls = [urban_perc, sub_perc, rural_perc]\n",
    "\n",
    "\n",
    "explode= [0.1, 0, 0]\n",
    "labels = [\"Urban\", \"Suburban\", \"Rural\"]\n",
    "colors = [\"pink\", \"lightblue\", \"yellow\"]\n",
    "\n",
    "# Build Pie Chart\n",
    "plt.title(\"% of Total Rides by City Type\")\n",
    "ride_fig = plt.pie(Percent_ls, explode=explode, labels=labels, colors=colors,\n",
    "        autopct=\"%1.1f%%\", shadow=True, startangle=200)\n",
    "\n",
    "# Save Figure\n",
    "#plt.savefig(\"../Images/RideCountPercents.png\")"
   ]
  },
  {
   "cell_type": "code",
   "execution_count": 107,
   "metadata": {},
   "outputs": [],
   "source": [
    "# Show Figure\n",
    "plt.show()"
   ]
  },
  {
   "cell_type": "markdown",
   "metadata": {},
   "source": [
    "## Total Drivers by City Type"
   ]
  },
  {
   "cell_type": "code",
   "execution_count": null,
   "metadata": {},
   "outputs": [],
   "source": [
    "# Calculate Driver Percents\n",
    "total_drivers = urban_df[\"Total Drivers\"].sum() + sub_df[\"Total Drivers\"].sum() + rural_df[\"Total Drivers\"].sum()\n",
    "total_drivers\n",
    "\n",
    "# Build Pie Charts\n",
    "Labels = [\"Urban\", \"Suburban\", \"Rural\"]\n",
    "colors = [\"pink\", \"blue\", \"yellow\"]\n",
    "# Save Figure\n"
   ]
  },
  {
   "cell_type": "code",
   "execution_count": null,
   "metadata": {
    "scrolled": true
   },
   "outputs": [],
   "source": [
    "# Show Figure\n",
    "plt.show()"
   ]
  },
  {
   "cell_type": "code",
   "execution_count": null,
   "metadata": {},
   "outputs": [],
   "source": []
  }
 ],
 "metadata": {
  "anaconda-cloud": {},
  "kernelspec": {
   "display_name": "Python [conda env:PythonData]",
   "language": "python",
   "name": "conda-env-PythonData-py"
  },
  "language_info": {
   "codemirror_mode": {
    "name": "ipython",
    "version": 3
   },
   "file_extension": ".py",
   "mimetype": "text/x-python",
   "name": "python",
   "nbconvert_exporter": "python",
   "pygments_lexer": "ipython3",
   "version": "3.6.7"
  }
 },
 "nbformat": 4,
 "nbformat_minor": 2
}
