{
 "cells": [
  {
   "cell_type": "code",
   "execution_count": 1,
   "metadata": {
    "scrolled": true
   },
   "outputs": [
    {
     "data": {
      "text/html": [
       "<div>\n",
       "<style scoped>\n",
       "    .dataframe tbody tr th:only-of-type {\n",
       "        vertical-align: middle;\n",
       "    }\n",
       "\n",
       "    .dataframe tbody tr th {\n",
       "        vertical-align: top;\n",
       "    }\n",
       "\n",
       "    .dataframe thead th {\n",
       "        text-align: right;\n",
       "    }\n",
       "</style>\n",
       "<table border=\"1\" class=\"dataframe\">\n",
       "  <thead>\n",
       "    <tr style=\"text-align: right;\">\n",
       "      <th></th>\n",
       "      <th>Purchase ID</th>\n",
       "      <th>SN</th>\n",
       "      <th>Age</th>\n",
       "      <th>Gender</th>\n",
       "      <th>Item ID</th>\n",
       "      <th>Item Name</th>\n",
       "      <th>Price</th>\n",
       "    </tr>\n",
       "  </thead>\n",
       "  <tbody>\n",
       "    <tr>\n",
       "      <th>0</th>\n",
       "      <td>0</td>\n",
       "      <td>Lisim78</td>\n",
       "      <td>20</td>\n",
       "      <td>Male</td>\n",
       "      <td>108</td>\n",
       "      <td>Extraction, Quickblade Of Trembling Hands</td>\n",
       "      <td>3.53</td>\n",
       "    </tr>\n",
       "    <tr>\n",
       "      <th>1</th>\n",
       "      <td>1</td>\n",
       "      <td>Lisovynya38</td>\n",
       "      <td>40</td>\n",
       "      <td>Male</td>\n",
       "      <td>143</td>\n",
       "      <td>Frenzied Scimitar</td>\n",
       "      <td>1.56</td>\n",
       "    </tr>\n",
       "    <tr>\n",
       "      <th>2</th>\n",
       "      <td>2</td>\n",
       "      <td>Ithergue48</td>\n",
       "      <td>24</td>\n",
       "      <td>Male</td>\n",
       "      <td>92</td>\n",
       "      <td>Final Critic</td>\n",
       "      <td>4.88</td>\n",
       "    </tr>\n",
       "    <tr>\n",
       "      <th>3</th>\n",
       "      <td>3</td>\n",
       "      <td>Chamassasya86</td>\n",
       "      <td>24</td>\n",
       "      <td>Male</td>\n",
       "      <td>100</td>\n",
       "      <td>Blindscythe</td>\n",
       "      <td>3.27</td>\n",
       "    </tr>\n",
       "    <tr>\n",
       "      <th>4</th>\n",
       "      <td>4</td>\n",
       "      <td>Iskosia90</td>\n",
       "      <td>23</td>\n",
       "      <td>Male</td>\n",
       "      <td>131</td>\n",
       "      <td>Fury</td>\n",
       "      <td>1.44</td>\n",
       "    </tr>\n",
       "  </tbody>\n",
       "</table>\n",
       "</div>"
      ],
      "text/plain": [
       "   Purchase ID             SN  Age Gender  Item ID  \\\n",
       "0            0        Lisim78   20   Male      108   \n",
       "1            1    Lisovynya38   40   Male      143   \n",
       "2            2     Ithergue48   24   Male       92   \n",
       "3            3  Chamassasya86   24   Male      100   \n",
       "4            4      Iskosia90   23   Male      131   \n",
       "\n",
       "                                   Item Name  Price  \n",
       "0  Extraction, Quickblade Of Trembling Hands   3.53  \n",
       "1                          Frenzied Scimitar   1.56  \n",
       "2                               Final Critic   4.88  \n",
       "3                                Blindscythe   3.27  \n",
       "4                                       Fury   1.44  "
      ]
     },
     "execution_count": 1,
     "metadata": {},
     "output_type": "execute_result"
    }
   ],
   "source": [
    "#Homework 4: Pandas\n",
    "#Marie Wothe\n",
    "\n",
    "# Dependencies and Setup\n",
    "import pandas as pd\n",
    "import numpy as np\n",
    "\n",
    "# File to Load (Remember to Change These)\n",
    "file_to_load = \"Resources/purchase_data.csv\"\n",
    "\n",
    "# Read Purchasing File and store into Pandas data frame\n",
    "purchase_data = pd.read_csv(file_to_load)\n",
    "purchase_data.head()"
   ]
  },
  {
   "cell_type": "code",
   "execution_count": 2,
   "metadata": {},
   "outputs": [
    {
     "data": {
      "text/html": [
       "<div>\n",
       "<style scoped>\n",
       "    .dataframe tbody tr th:only-of-type {\n",
       "        vertical-align: middle;\n",
       "    }\n",
       "\n",
       "    .dataframe tbody tr th {\n",
       "        vertical-align: top;\n",
       "    }\n",
       "\n",
       "    .dataframe thead th {\n",
       "        text-align: right;\n",
       "    }\n",
       "</style>\n",
       "<table border=\"1\" class=\"dataframe\">\n",
       "  <thead>\n",
       "    <tr style=\"text-align: right;\">\n",
       "      <th></th>\n",
       "      <th>Total Players</th>\n",
       "    </tr>\n",
       "  </thead>\n",
       "  <tbody>\n",
       "    <tr>\n",
       "      <th>0</th>\n",
       "      <td>576</td>\n",
       "    </tr>\n",
       "  </tbody>\n",
       "</table>\n",
       "</div>"
      ],
      "text/plain": [
       "   Total Players\n",
       "0            576"
      ]
     },
     "execution_count": 2,
     "metadata": {},
     "output_type": "execute_result"
    }
   ],
   "source": [
    "#Total number of players - note it is possible one player made multiple purchases. \n",
    "total_play = purchase_data[\"SN\"].unique()\n",
    "total_players = len(total_play)\n",
    "total_players_df = pd.DataFrame([{\"Total Players\": 576}])\n",
    "total_players_df"
   ]
  },
  {
   "cell_type": "markdown",
   "metadata": {},
   "source": [
    "Purchasing Analysis (Total)\n",
    "\n",
    "-Run basic calculations to obtain number of unique items, average price, etc.\n",
    "\n",
    "-Create a summary data frame to hold the results\n",
    "\n",
    "-Optional: give the displayed data cleaner formatting\n",
    "\n",
    "-Display the summary data frame"
   ]
  },
  {
   "cell_type": "code",
   "execution_count": 3,
   "metadata": {},
   "outputs": [
    {
     "data": {
      "text/plain": [
       "179"
      ]
     },
     "execution_count": 3,
     "metadata": {},
     "output_type": "execute_result"
    }
   ],
   "source": [
    "#Number of Unique Items\n",
    "#note each item has a name and an id\n",
    "unique_items = purchase_data[\"Item Name\"].unique()\n",
    "\n",
    "#number of unique items\n",
    "num = len(unique_items)\n",
    "num"
   ]
  },
  {
   "cell_type": "code",
   "execution_count": 4,
   "metadata": {},
   "outputs": [
    {
     "data": {
      "text/plain": [
       "3.05"
      ]
     },
     "execution_count": 4,
     "metadata": {},
     "output_type": "execute_result"
    }
   ],
   "source": [
    "#calculate average price of items\n",
    "average_price = purchase_data[\"Price\"].mean()\n",
    "average_price = round(average_price,2)\n",
    "\n",
    "average_price"
   ]
  },
  {
   "cell_type": "code",
   "execution_count": 5,
   "metadata": {},
   "outputs": [
    {
     "data": {
      "text/plain": [
       "780"
      ]
     },
     "execution_count": 5,
     "metadata": {},
     "output_type": "execute_result"
    }
   ],
   "source": [
    "#total number of purchases\n",
    "total_purchases = len(purchase_data)\n",
    "total_purchases"
   ]
  },
  {
   "cell_type": "code",
   "execution_count": 6,
   "metadata": {},
   "outputs": [
    {
     "data": {
      "text/plain": [
       "2379.77"
      ]
     },
     "execution_count": 6,
     "metadata": {},
     "output_type": "execute_result"
    }
   ],
   "source": [
    "#Total Revenue\n",
    "total_rev = purchase_data[\"Price\"].sum()\n",
    "total_rev\n"
   ]
  },
  {
   "cell_type": "code",
   "execution_count": 7,
   "metadata": {},
   "outputs": [
    {
     "data": {
      "text/html": [
       "<div>\n",
       "<style scoped>\n",
       "    .dataframe tbody tr th:only-of-type {\n",
       "        vertical-align: middle;\n",
       "    }\n",
       "\n",
       "    .dataframe tbody tr th {\n",
       "        vertical-align: top;\n",
       "    }\n",
       "\n",
       "    .dataframe thead th {\n",
       "        text-align: right;\n",
       "    }\n",
       "</style>\n",
       "<table border=\"1\" class=\"dataframe\">\n",
       "  <thead>\n",
       "    <tr style=\"text-align: right;\">\n",
       "      <th></th>\n",
       "      <th>Number of Unique Items</th>\n",
       "      <th>Average Price</th>\n",
       "      <th>Total Purchases</th>\n",
       "      <th>Total Revenue</th>\n",
       "    </tr>\n",
       "  </thead>\n",
       "  <tbody>\n",
       "    <tr>\n",
       "      <th>0</th>\n",
       "      <td>179</td>\n",
       "      <td>$3.05</td>\n",
       "      <td>780</td>\n",
       "      <td>$2,379.77</td>\n",
       "    </tr>\n",
       "  </tbody>\n",
       "</table>\n",
       "</div>"
      ],
      "text/plain": [
       "   Number of Unique Items Average Price  Total Purchases Total Revenue\n",
       "0                     179         $3.05              780     $2,379.77"
      ]
     },
     "execution_count": 7,
     "metadata": {},
     "output_type": "execute_result"
    }
   ],
   "source": [
    "#Summary Data Frame to hold results\n",
    "summary_df = pd.DataFrame({\"Number of Unique Items\": num,\\\n",
    "                           \"Average Price\": average_price,\\\n",
    "                           \"Total Purchases\": total_purchases,\\\n",
    "                           \"Total Revenue\": total_rev}, index=[0])\n",
    "\n",
    "#final formatting\n",
    "summary_df[\"Average Price\"] = summary_df[\"Average Price\"].map(\"${:.2f}\".format)\n",
    "summary_df[\"Total Revenue\"] = summary_df[\"Total Revenue\"].map(\"${:,.2f}\".format)\n",
    "\n",
    "#show summary data frame\n",
    "summary_df"
   ]
  },
  {
   "cell_type": "markdown",
   "metadata": {},
   "source": [
    "Gender Demographics\n",
    "\n",
    "-Percentage and Count of Male Players\n",
    "\n",
    "-Percentage and Count of Female Players\n",
    "\n",
    "-Percentage and Count of Other / Non-Disclosed"
   ]
  },
  {
   "cell_type": "code",
   "execution_count": 8,
   "metadata": {},
   "outputs": [],
   "source": [
    "#create data frame with only the unique players listed\n",
    "unique_players_only = purchase_data.drop_duplicates(\"SN\")"
   ]
  },
  {
   "cell_type": "code",
   "execution_count": 9,
   "metadata": {},
   "outputs": [
    {
     "data": {
      "text/html": [
       "<div>\n",
       "<style scoped>\n",
       "    .dataframe tbody tr th:only-of-type {\n",
       "        vertical-align: middle;\n",
       "    }\n",
       "\n",
       "    .dataframe tbody tr th {\n",
       "        vertical-align: top;\n",
       "    }\n",
       "\n",
       "    .dataframe thead th {\n",
       "        text-align: right;\n",
       "    }\n",
       "</style>\n",
       "<table border=\"1\" class=\"dataframe\">\n",
       "  <thead>\n",
       "    <tr style=\"text-align: right;\">\n",
       "      <th></th>\n",
       "      <th>Gender</th>\n",
       "    </tr>\n",
       "  </thead>\n",
       "  <tbody>\n",
       "    <tr>\n",
       "      <th>Male</th>\n",
       "      <td>484</td>\n",
       "    </tr>\n",
       "    <tr>\n",
       "      <th>Female</th>\n",
       "      <td>81</td>\n",
       "    </tr>\n",
       "    <tr>\n",
       "      <th>Other / Non-Disclosed</th>\n",
       "      <td>11</td>\n",
       "    </tr>\n",
       "  </tbody>\n",
       "</table>\n",
       "</div>"
      ],
      "text/plain": [
       "                       Gender\n",
       "Male                      484\n",
       "Female                     81\n",
       "Other / Non-Disclosed      11"
      ]
     },
     "execution_count": 9,
     "metadata": {},
     "output_type": "execute_result"
    }
   ],
   "source": [
    "#create data frame of gender counts\n",
    "Gender_df = pd.DataFrame(unique_players_only[\"Gender\"].value_counts())\n",
    "Gender_df.reset_index()\n",
    "Gender_df"
   ]
  },
  {
   "cell_type": "code",
   "execution_count": 10,
   "metadata": {},
   "outputs": [
    {
     "data": {
      "text/plain": [
       "[484, 81, 11]"
      ]
     },
     "execution_count": 10,
     "metadata": {},
     "output_type": "execute_result"
    }
   ],
   "source": [
    "#create intermediate variable to calculate the percentages\n",
    "gender = Gender_df[\"Gender\"].tolist()\n",
    "gender"
   ]
  },
  {
   "cell_type": "code",
   "execution_count": 11,
   "metadata": {},
   "outputs": [
    {
     "data": {
      "text/plain": [
       "[84.03, 14.06, 1.91]"
      ]
     },
     "execution_count": 11,
     "metadata": {},
     "output_type": "execute_result"
    }
   ],
   "source": [
    "#add player percentages\n",
    "percent = [round(number/total_players*100, 2) for number in gender]\n",
    "percent"
   ]
  },
  {
   "cell_type": "code",
   "execution_count": 12,
   "metadata": {},
   "outputs": [
    {
     "data": {
      "text/html": [
       "<div>\n",
       "<style scoped>\n",
       "    .dataframe tbody tr th:only-of-type {\n",
       "        vertical-align: middle;\n",
       "    }\n",
       "\n",
       "    .dataframe tbody tr th {\n",
       "        vertical-align: top;\n",
       "    }\n",
       "\n",
       "    .dataframe thead th {\n",
       "        text-align: right;\n",
       "    }\n",
       "</style>\n",
       "<table border=\"1\" class=\"dataframe\">\n",
       "  <thead>\n",
       "    <tr style=\"text-align: right;\">\n",
       "      <th></th>\n",
       "      <th>Gender</th>\n",
       "      <th>0</th>\n",
       "    </tr>\n",
       "  </thead>\n",
       "  <tbody>\n",
       "    <tr>\n",
       "      <th>Male</th>\n",
       "      <td>484.0</td>\n",
       "      <td>NaN</td>\n",
       "    </tr>\n",
       "    <tr>\n",
       "      <th>Female</th>\n",
       "      <td>81.0</td>\n",
       "      <td>NaN</td>\n",
       "    </tr>\n",
       "    <tr>\n",
       "      <th>Other / Non-Disclosed</th>\n",
       "      <td>11.0</td>\n",
       "      <td>NaN</td>\n",
       "    </tr>\n",
       "    <tr>\n",
       "      <th>0</th>\n",
       "      <td>NaN</td>\n",
       "      <td>84.03</td>\n",
       "    </tr>\n",
       "    <tr>\n",
       "      <th>1</th>\n",
       "      <td>NaN</td>\n",
       "      <td>14.06</td>\n",
       "    </tr>\n",
       "    <tr>\n",
       "      <th>2</th>\n",
       "      <td>NaN</td>\n",
       "      <td>1.91</td>\n",
       "    </tr>\n",
       "  </tbody>\n",
       "</table>\n",
       "</div>"
      ],
      "text/plain": [
       "                       Gender      0\n",
       "Male                    484.0    NaN\n",
       "Female                   81.0    NaN\n",
       "Other / Non-Disclosed    11.0    NaN\n",
       "0                         NaN  84.03\n",
       "1                         NaN  14.06\n",
       "2                         NaN   1.91"
      ]
     },
     "execution_count": 12,
     "metadata": {},
     "output_type": "execute_result"
    }
   ],
   "source": [
    "#Add percentages to the Gender Dataframe\n",
    "Gender_df = Gender_df.append(percent)\n",
    "Gender_df\n",
    "#ASK THE TA - it doesn't append to the corresponding values - makes three more rows"
   ]
  },
  {
   "cell_type": "code",
   "execution_count": 13,
   "metadata": {},
   "outputs": [],
   "source": [
    "#Final formatting\n",
    "#Show Gender Analysis"
   ]
  },
  {
   "cell_type": "markdown",
   "metadata": {},
   "source": [
    "Purchasing Analysis (Gender)¶\n",
    "\n",
    "Run basic calculations to obtain purchase count, avg. purchase price, avg. purchase total per person and total purchase value\n",
    "\n",
    "Create a summary data frame to hold the results\n",
    "\n",
    "Optional: give the displayed data cleaner formatting and display the summary data fram"
   ]
  },
  {
   "cell_type": "code",
   "execution_count": 14,
   "metadata": {},
   "outputs": [],
   "source": [
    "# Purchase count, avg purchase price, avg purchase total and total purchase value for males\n",
    "male_players = purchase_data.loc[purchase_data[\"Gender\"]==\"Male\"]\n"
   ]
  },
  {
   "cell_type": "code",
   "execution_count": 15,
   "metadata": {},
   "outputs": [
    {
     "name": "stdout",
     "output_type": "stream",
     "text": [
      "652\n",
      "3.02\n",
      "1967.64\n",
      "4.07\n"
     ]
    }
   ],
   "source": [
    "#Number of Purchases made by males\n",
    "pur_num_m = len(male_players)\n",
    "\n",
    "#Average Purchase price for males\n",
    "avg_price_m = round(male_players[\"Price\"].mean(), 2)\n",
    "\n",
    "#Total Purchase Value for Males\n",
    "tot_pur_m = male_players[\"Price\"].sum()\n",
    "\n",
    "#Average Purchase total per person\n",
    "avg_pur_total_m = round(tot_pur_m/484,2)\n",
    "\n",
    "print(pur_num_m)\n",
    "print(avg_price_m)\n",
    "print(tot_pur_m)\n",
    "print(avg_pur_total_m)"
   ]
  },
  {
   "cell_type": "code",
   "execution_count": 16,
   "metadata": {},
   "outputs": [],
   "source": [
    "# Purchase count, avg purchase price, avg purchase total and total purchase value for males\n",
    "female_players = purchase_data.loc[purchase_data[\"Gender\"]==\"Female\"]  "
   ]
  },
  {
   "cell_type": "code",
   "execution_count": 17,
   "metadata": {},
   "outputs": [
    {
     "name": "stdout",
     "output_type": "stream",
     "text": [
      "113\n",
      "3.2\n",
      "361.94\n",
      "4.47\n"
     ]
    }
   ],
   "source": [
    "#Number of Purchases made by females\n",
    "pur_num_f = len(female_players)\n",
    "\n",
    "#Average Purchase price for females\n",
    "avg_price_f = round(female_players[\"Price\"].mean(), 2)\n",
    "\n",
    "#Total Purchase Value for females\n",
    "tot_pur_f = female_players[\"Price\"].sum()\n",
    "\n",
    "#Average Purchase total per person\n",
    "avg_pur_total_f = round(tot_pur_f/81, 2)\n",
    "\n",
    "print(pur_num_f)\n",
    "print(avg_price_f)\n",
    "print(tot_pur_f)\n",
    "print(avg_pur_total_f)"
   ]
  },
  {
   "cell_type": "code",
   "execution_count": 18,
   "metadata": {},
   "outputs": [],
   "source": [
    "# Purchase count, avg purchase price, avg purchase total and total purchase value for males\n",
    "other_players = purchase_data.loc[purchase_data[\"Gender\"]== \"Other / Non-Disclosed\"]"
   ]
  },
  {
   "cell_type": "code",
   "execution_count": 19,
   "metadata": {},
   "outputs": [
    {
     "name": "stdout",
     "output_type": "stream",
     "text": [
      "15\n",
      "3.35\n",
      "50.19\n",
      "4.56\n"
     ]
    }
   ],
   "source": [
    "#Number of Purchases made by other\n",
    "pur_num_d = len(other_players)\n",
    "\n",
    "#Average Purchase price for other\n",
    "avg_price_d = round(other_players[\"Price\"].mean(), 2)\n",
    "\n",
    "#Total Purchase Value for other\n",
    "tot_pur_d = other_players[\"Price\"].sum()\n",
    "\n",
    "#Average Purchase total per person\n",
    "avg_pur_total_d = round(tot_pur_d/11, 2)\n",
    "\n",
    "print(pur_num_d)\n",
    "print(avg_price_d)\n",
    "print(tot_pur_d)\n",
    "print(avg_pur_total_d)"
   ]
  },
  {
   "cell_type": "code",
   "execution_count": 20,
   "metadata": {},
   "outputs": [
    {
     "data": {
      "text/html": [
       "<div>\n",
       "<style scoped>\n",
       "    .dataframe tbody tr th:only-of-type {\n",
       "        vertical-align: middle;\n",
       "    }\n",
       "\n",
       "    .dataframe tbody tr th {\n",
       "        vertical-align: top;\n",
       "    }\n",
       "\n",
       "    .dataframe thead th {\n",
       "        text-align: right;\n",
       "    }\n",
       "</style>\n",
       "<table border=\"1\" class=\"dataframe\">\n",
       "  <thead>\n",
       "    <tr style=\"text-align: right;\">\n",
       "      <th></th>\n",
       "      <th>Purchase Counts</th>\n",
       "      <th>Average Price</th>\n",
       "      <th>Average Total Purchase</th>\n",
       "      <th>Purchases Total</th>\n",
       "    </tr>\n",
       "    <tr>\n",
       "      <th>Gender</th>\n",
       "      <th></th>\n",
       "      <th></th>\n",
       "      <th></th>\n",
       "      <th></th>\n",
       "    </tr>\n",
       "  </thead>\n",
       "  <tbody>\n",
       "    <tr>\n",
       "      <th>Male</th>\n",
       "      <td>652</td>\n",
       "      <td>$3.02</td>\n",
       "      <td>$4.07</td>\n",
       "      <td>$1,967.64</td>\n",
       "    </tr>\n",
       "    <tr>\n",
       "      <th>Female</th>\n",
       "      <td>113</td>\n",
       "      <td>$3.20</td>\n",
       "      <td>$4.47</td>\n",
       "      <td>$361.94</td>\n",
       "    </tr>\n",
       "    <tr>\n",
       "      <th>Other/Non-Disclosed</th>\n",
       "      <td>15</td>\n",
       "      <td>$3.35</td>\n",
       "      <td>$4.56</td>\n",
       "      <td>$50.19</td>\n",
       "    </tr>\n",
       "  </tbody>\n",
       "</table>\n",
       "</div>"
      ],
      "text/plain": [
       "                     Purchase Counts Average Price Average Total Purchase  \\\n",
       "Gender                                                                      \n",
       "Male                             652         $3.02                  $4.07   \n",
       "Female                           113         $3.20                  $4.47   \n",
       "Other/Non-Disclosed               15         $3.35                  $4.56   \n",
       "\n",
       "                    Purchases Total  \n",
       "Gender                               \n",
       "Male                      $1,967.64  \n",
       "Female                      $361.94  \n",
       "Other/Non-Disclosed          $50.19  "
      ]
     },
     "execution_count": 20,
     "metadata": {},
     "output_type": "execute_result"
    }
   ],
   "source": [
    "#Create summary data frame\n",
    "summary_df_2 = pd.DataFrame({\"Gender\": [\"Male\",\"Female\",\"Other/Non-Disclosed\"],\\\n",
    "                             \"Purchase Counts\":[pur_num_m, pur_num_f, pur_num_d],\\\n",
    "                             \"Average Price\": [avg_price_m, avg_price_f, avg_price_d],\\\n",
    "                             \"Average Total Purchase\": [avg_pur_total_m, avg_pur_total_f, avg_pur_total_d],\\\n",
    "                             \"Purchases Total\": [tot_pur_m, tot_pur_f, tot_pur_d]\n",
    "                             })\n",
    "\n",
    "#Final formatting\n",
    "summary_df_2[\"Average Price\"] = summary_df_2[\"Average Price\"].map(\"${:.2f}\".format)\n",
    "summary_df_2[\"Average Total Purchase\"] = summary_df_2[\"Average Total Purchase\"].map(\"${:.2f}\".format)\n",
    "summary_df_2[\"Purchases Total\"] = summary_df_2[\"Purchases Total\"].map(\"${:,.2f}\".format)\n",
    "\n",
    "summary_df_2 = summary_df_2.set_index(\"Gender\")\n",
    "\n",
    "#Show summary data frame\n",
    "summary_df_2"
   ]
  },
  {
   "cell_type": "markdown",
   "metadata": {},
   "source": [
    "Age Demographics¶\n",
    "\n",
    "Establish bins for ages\n",
    "\n",
    "Categorize the existing players using the age bins. Hint: use pd.cut()\n",
    "\n",
    "Calculate the numbers and percentages by age group\n",
    "\n",
    "Create a summary data frame to hold the results\n",
    "\n",
    "Optional: round the percentage column to two decimal points and display Age Demographics Table"
   ]
  },
  {
   "cell_type": "code",
   "execution_count": 40,
   "metadata": {},
   "outputs": [],
   "source": [
    "#Create bins for ages\n",
    "bins = [0, 9, 14, 19, 24, 29, 34, 39, 80]\n",
    "\n",
    "#Name the bins\n",
    "group_names = [\"<10\", \"10-14\", \"15-19\", \"20-24\", \"25-29\", \"30-34\", \"35-39\", \"40+\"]"
   ]
  },
  {
   "cell_type": "code",
   "execution_count": 54,
   "metadata": {},
   "outputs": [
    {
     "name": "stderr",
     "output_type": "stream",
     "text": [
      "/anaconda3/envs/PythonData/lib/python3.6/site-packages/ipykernel_launcher.py:2: SettingWithCopyWarning: \n",
      "A value is trying to be set on a copy of a slice from a DataFrame.\n",
      "Try using .loc[row_indexer,col_indexer] = value instead\n",
      "\n",
      "See the caveats in the documentation: http://pandas.pydata.org/pandas-docs/stable/indexing.html#indexing-view-versus-copy\n",
      "  \n"
     ]
    }
   ],
   "source": [
    "#Sort data into bins\n",
    "unique_players_only[\"Age Group\"] = pd.cut(unique_players_only[\"Age\"], bins, labels=group_names)\n",
    "\n",
    "#Age Group counts\n",
    "age_group = unique_players_only.groupby(\"Age Group\")\n",
    "age_group_df = pd.DataFrame(age_group[\"Age\"].count())\n"
   ]
  },
  {
   "cell_type": "code",
   "execution_count": 55,
   "metadata": {},
   "outputs": [
    {
     "data": {
      "text/html": [
       "<div>\n",
       "<style scoped>\n",
       "    .dataframe tbody tr th:only-of-type {\n",
       "        vertical-align: middle;\n",
       "    }\n",
       "\n",
       "    .dataframe tbody tr th {\n",
       "        vertical-align: top;\n",
       "    }\n",
       "\n",
       "    .dataframe thead th {\n",
       "        text-align: right;\n",
       "    }\n",
       "</style>\n",
       "<table border=\"1\" class=\"dataframe\">\n",
       "  <thead>\n",
       "    <tr style=\"text-align: right;\">\n",
       "      <th></th>\n",
       "      <th>Total Count</th>\n",
       "    </tr>\n",
       "    <tr>\n",
       "      <th>Age Group</th>\n",
       "      <th></th>\n",
       "    </tr>\n",
       "  </thead>\n",
       "  <tbody>\n",
       "    <tr>\n",
       "      <th>&lt;10</th>\n",
       "      <td>17</td>\n",
       "    </tr>\n",
       "    <tr>\n",
       "      <th>10-14</th>\n",
       "      <td>22</td>\n",
       "    </tr>\n",
       "    <tr>\n",
       "      <th>15-19</th>\n",
       "      <td>107</td>\n",
       "    </tr>\n",
       "    <tr>\n",
       "      <th>20-24</th>\n",
       "      <td>258</td>\n",
       "    </tr>\n",
       "    <tr>\n",
       "      <th>25-29</th>\n",
       "      <td>77</td>\n",
       "    </tr>\n",
       "    <tr>\n",
       "      <th>30-34</th>\n",
       "      <td>52</td>\n",
       "    </tr>\n",
       "    <tr>\n",
       "      <th>35-39</th>\n",
       "      <td>31</td>\n",
       "    </tr>\n",
       "    <tr>\n",
       "      <th>40+</th>\n",
       "      <td>12</td>\n",
       "    </tr>\n",
       "  </tbody>\n",
       "</table>\n",
       "</div>"
      ],
      "text/plain": [
       "           Total Count\n",
       "Age Group             \n",
       "<10                 17\n",
       "10-14               22\n",
       "15-19              107\n",
       "20-24              258\n",
       "25-29               77\n",
       "30-34               52\n",
       "35-39               31\n",
       "40+                 12"
      ]
     },
     "execution_count": 55,
     "metadata": {},
     "output_type": "execute_result"
    }
   ],
   "source": [
    "#Rename Columns\n",
    "age_group_df = age_group_df.rename(columns={\"Age\": \"Total Count\"})\n",
    "age_group_df"
   ]
  },
  {
   "cell_type": "code",
   "execution_count": null,
   "metadata": {},
   "outputs": [],
   "source": [
    "age_group_df[\"Percentage of Players\"] = []#ASK TA - LIST COMP???"
   ]
  },
  {
   "cell_type": "code",
   "execution_count": null,
   "metadata": {},
   "outputs": [],
   "source": []
  },
  {
   "cell_type": "markdown",
   "metadata": {},
   "source": [
    "Purchasing Analysis (Age)\n",
    "\n",
    "Bin the purchase_data data frame by age\n",
    "\n",
    "Run basic calculations to obtain purchase count, avg. purchase price, avg. purchase total per person etc. in the table below\n",
    "\n",
    "Create a summary data frame to hold the results\n",
    "\n",
    "Optional: give the displayed data cleaner formatting and display the summary data frame"
   ]
  },
  {
   "cell_type": "code",
   "execution_count": 45,
   "metadata": {},
   "outputs": [],
   "source": [
    "#Create bins for ages\n",
    "bins = [0, 9, 14, 19, 24, 29, 34, 39, 80]\n",
    "\n",
    "#Name the bins\n",
    "group_names_pur = [\"<10\", \"10-14\", \"15-19\", \"20-24\", \"25-29\", \"30-34\", \"35-39\", \"40+\"]"
   ]
  },
  {
   "cell_type": "code",
   "execution_count": null,
   "metadata": {},
   "outputs": [],
   "source": [
    "#Sort data into bins\n",
    "purchase_data[\"Age Group\"] = pd.cut(purchase_data[\"Age\"], bins, labels=group_names_pur)\n",
    "\n",
    "#Age Group counts\n",
    "age_group_pur = purchase_data.groupby(\"Age Group\")\n",
    "age_group_pur_df = pd.DataFrame(age_group_pur[\"Age\"].count())"
   ]
  },
  {
   "cell_type": "code",
   "execution_count": 61,
   "metadata": {},
   "outputs": [
    {
     "data": {
      "text/html": [
       "<div>\n",
       "<style scoped>\n",
       "    .dataframe tbody tr th:only-of-type {\n",
       "        vertical-align: middle;\n",
       "    }\n",
       "\n",
       "    .dataframe tbody tr th {\n",
       "        vertical-align: top;\n",
       "    }\n",
       "\n",
       "    .dataframe thead th {\n",
       "        text-align: right;\n",
       "    }\n",
       "</style>\n",
       "<table border=\"1\" class=\"dataframe\">\n",
       "  <thead>\n",
       "    <tr style=\"text-align: right;\">\n",
       "      <th></th>\n",
       "      <th>Purchase Count</th>\n",
       "    </tr>\n",
       "    <tr>\n",
       "      <th>Age Group</th>\n",
       "      <th></th>\n",
       "    </tr>\n",
       "  </thead>\n",
       "  <tbody>\n",
       "    <tr>\n",
       "      <th>&lt;10</th>\n",
       "      <td>23</td>\n",
       "    </tr>\n",
       "    <tr>\n",
       "      <th>10-14</th>\n",
       "      <td>28</td>\n",
       "    </tr>\n",
       "    <tr>\n",
       "      <th>15-19</th>\n",
       "      <td>136</td>\n",
       "    </tr>\n",
       "    <tr>\n",
       "      <th>20-24</th>\n",
       "      <td>365</td>\n",
       "    </tr>\n",
       "    <tr>\n",
       "      <th>25-29</th>\n",
       "      <td>101</td>\n",
       "    </tr>\n",
       "    <tr>\n",
       "      <th>30-34</th>\n",
       "      <td>73</td>\n",
       "    </tr>\n",
       "    <tr>\n",
       "      <th>35-39</th>\n",
       "      <td>41</td>\n",
       "    </tr>\n",
       "    <tr>\n",
       "      <th>40+</th>\n",
       "      <td>13</td>\n",
       "    </tr>\n",
       "  </tbody>\n",
       "</table>\n",
       "</div>"
      ],
      "text/plain": [
       "           Purchase Count\n",
       "Age Group                \n",
       "<10                    23\n",
       "10-14                  28\n",
       "15-19                 136\n",
       "20-24                 365\n",
       "25-29                 101\n",
       "30-34                  73\n",
       "35-39                  41\n",
       "40+                    13"
      ]
     },
     "execution_count": 61,
     "metadata": {},
     "output_type": "execute_result"
    }
   ],
   "source": [
    "age_group_pur_df = age_group_pur_df.rename(columns={\"Age\": \"Purchase Count\"})\n",
    "age_group_pur_df"
   ]
  },
  {
   "cell_type": "markdown",
   "metadata": {},
   "source": [
    "Top Spenders¶\n",
    "\n",
    "Create a summary data frame to hold the results\n",
    "\n",
    "Sort the total purchase value column in descending order\n",
    "\n",
    "Optional: give the displayed data cleaner formatting and display a preview of the summary data frame"
   ]
  },
  {
   "cell_type": "code",
   "execution_count": 91,
   "metadata": {},
   "outputs": [
    {
     "data": {
      "text/plain": [
       "Lisosia93      5\n",
       "Iral74         4\n",
       "Idastidru52    4\n",
       "Iri67          3\n",
       "Aina42         3\n",
       "Name: SN, dtype: int64"
      ]
     },
     "execution_count": 91,
     "metadata": {},
     "output_type": "execute_result"
    }
   ],
   "source": [
    "#find the top spenders\n",
    "purchase_data = purchase_data.reset_index()\n",
    "spenders = purchase_data[\"SN\"].value_counts()\n",
    "spenders.head()"
   ]
  },
  {
   "cell_type": "code",
   "execution_count": 92,
   "metadata": {},
   "outputs": [
    {
     "data": {
      "text/html": [
       "<div>\n",
       "<style scoped>\n",
       "    .dataframe tbody tr th:only-of-type {\n",
       "        vertical-align: middle;\n",
       "    }\n",
       "\n",
       "    .dataframe tbody tr th {\n",
       "        vertical-align: top;\n",
       "    }\n",
       "\n",
       "    .dataframe thead th {\n",
       "        text-align: right;\n",
       "    }\n",
       "</style>\n",
       "<table border=\"1\" class=\"dataframe\">\n",
       "  <thead>\n",
       "    <tr style=\"text-align: right;\">\n",
       "      <th></th>\n",
       "      <th>index</th>\n",
       "      <th>Purchase ID</th>\n",
       "      <th>Age</th>\n",
       "      <th>Gender</th>\n",
       "      <th>Item ID</th>\n",
       "      <th>Item Name</th>\n",
       "      <th>Price</th>\n",
       "      <th>Age Group</th>\n",
       "    </tr>\n",
       "    <tr>\n",
       "      <th>SN</th>\n",
       "      <th></th>\n",
       "      <th></th>\n",
       "      <th></th>\n",
       "      <th></th>\n",
       "      <th></th>\n",
       "      <th></th>\n",
       "      <th></th>\n",
       "      <th></th>\n",
       "    </tr>\n",
       "  </thead>\n",
       "  <tbody>\n",
       "    <tr>\n",
       "      <th>Lisosia93</th>\n",
       "      <td>74</td>\n",
       "      <td>74</td>\n",
       "      <td>25</td>\n",
       "      <td>Male</td>\n",
       "      <td>89</td>\n",
       "      <td>Blazefury, Protector of Delusions</td>\n",
       "      <td>4.64</td>\n",
       "      <td>25-29</td>\n",
       "    </tr>\n",
       "    <tr>\n",
       "      <th>Lisosia93</th>\n",
       "      <td>120</td>\n",
       "      <td>120</td>\n",
       "      <td>25</td>\n",
       "      <td>Male</td>\n",
       "      <td>24</td>\n",
       "      <td>Warped Fetish</td>\n",
       "      <td>3.81</td>\n",
       "      <td>25-29</td>\n",
       "    </tr>\n",
       "    <tr>\n",
       "      <th>Lisosia93</th>\n",
       "      <td>224</td>\n",
       "      <td>224</td>\n",
       "      <td>25</td>\n",
       "      <td>Male</td>\n",
       "      <td>157</td>\n",
       "      <td>Spada, Etcher of Hatred</td>\n",
       "      <td>4.80</td>\n",
       "      <td>25-29</td>\n",
       "    </tr>\n",
       "    <tr>\n",
       "      <th>Lisosia93</th>\n",
       "      <td>603</td>\n",
       "      <td>603</td>\n",
       "      <td>25</td>\n",
       "      <td>Male</td>\n",
       "      <td>141</td>\n",
       "      <td>Persuasion</td>\n",
       "      <td>3.19</td>\n",
       "      <td>25-29</td>\n",
       "    </tr>\n",
       "    <tr>\n",
       "      <th>Lisosia93</th>\n",
       "      <td>609</td>\n",
       "      <td>609</td>\n",
       "      <td>25</td>\n",
       "      <td>Male</td>\n",
       "      <td>40</td>\n",
       "      <td>Second Chance</td>\n",
       "      <td>2.52</td>\n",
       "      <td>25-29</td>\n",
       "    </tr>\n",
       "    <tr>\n",
       "      <th>Iral74</th>\n",
       "      <td>128</td>\n",
       "      <td>128</td>\n",
       "      <td>21</td>\n",
       "      <td>Male</td>\n",
       "      <td>58</td>\n",
       "      <td>Freak's Bite, Favor of Holy Might</td>\n",
       "      <td>4.14</td>\n",
       "      <td>20-24</td>\n",
       "    </tr>\n",
       "    <tr>\n",
       "      <th>Iral74</th>\n",
       "      <td>623</td>\n",
       "      <td>623</td>\n",
       "      <td>21</td>\n",
       "      <td>Male</td>\n",
       "      <td>114</td>\n",
       "      <td>Yearning Mageblade</td>\n",
       "      <td>3.82</td>\n",
       "      <td>20-24</td>\n",
       "    </tr>\n",
       "    <tr>\n",
       "      <th>Iral74</th>\n",
       "      <td>758</td>\n",
       "      <td>758</td>\n",
       "      <td>21</td>\n",
       "      <td>Male</td>\n",
       "      <td>182</td>\n",
       "      <td>Toothpick</td>\n",
       "      <td>4.03</td>\n",
       "      <td>20-24</td>\n",
       "    </tr>\n",
       "    <tr>\n",
       "      <th>Iral74</th>\n",
       "      <td>776</td>\n",
       "      <td>776</td>\n",
       "      <td>21</td>\n",
       "      <td>Male</td>\n",
       "      <td>164</td>\n",
       "      <td>Exiled Doomblade</td>\n",
       "      <td>1.63</td>\n",
       "      <td>20-24</td>\n",
       "    </tr>\n",
       "    <tr>\n",
       "      <th>Idastidru52</th>\n",
       "      <td>290</td>\n",
       "      <td>290</td>\n",
       "      <td>24</td>\n",
       "      <td>Male</td>\n",
       "      <td>147</td>\n",
       "      <td>Hellreaver, Heirloom of Inception</td>\n",
       "      <td>4.93</td>\n",
       "      <td>20-24</td>\n",
       "    </tr>\n",
       "    <tr>\n",
       "      <th>Idastidru52</th>\n",
       "      <td>490</td>\n",
       "      <td>490</td>\n",
       "      <td>24</td>\n",
       "      <td>Male</td>\n",
       "      <td>148</td>\n",
       "      <td>Warmonger, Gift of Suffering's End</td>\n",
       "      <td>4.03</td>\n",
       "      <td>20-24</td>\n",
       "    </tr>\n",
       "    <tr>\n",
       "      <th>Idastidru52</th>\n",
       "      <td>543</td>\n",
       "      <td>543</td>\n",
       "      <td>24</td>\n",
       "      <td>Male</td>\n",
       "      <td>121</td>\n",
       "      <td>Massacre</td>\n",
       "      <td>1.60</td>\n",
       "      <td>20-24</td>\n",
       "    </tr>\n",
       "    <tr>\n",
       "      <th>Idastidru52</th>\n",
       "      <td>676</td>\n",
       "      <td>676</td>\n",
       "      <td>24</td>\n",
       "      <td>Male</td>\n",
       "      <td>111</td>\n",
       "      <td>Misery's End</td>\n",
       "      <td>4.89</td>\n",
       "      <td>20-24</td>\n",
       "    </tr>\n",
       "    <tr>\n",
       "      <th>Iri67</th>\n",
       "      <td>137</td>\n",
       "      <td>137</td>\n",
       "      <td>20</td>\n",
       "      <td>Male</td>\n",
       "      <td>179</td>\n",
       "      <td>Wolf, Promise of the Moonwalker</td>\n",
       "      <td>4.48</td>\n",
       "      <td>20-24</td>\n",
       "    </tr>\n",
       "    <tr>\n",
       "      <th>Iri67</th>\n",
       "      <td>161</td>\n",
       "      <td>161</td>\n",
       "      <td>20</td>\n",
       "      <td>Male</td>\n",
       "      <td>3</td>\n",
       "      <td>Phantomlight</td>\n",
       "      <td>2.49</td>\n",
       "      <td>20-24</td>\n",
       "    </tr>\n",
       "    <tr>\n",
       "      <th>Iri67</th>\n",
       "      <td>551</td>\n",
       "      <td>551</td>\n",
       "      <td>20</td>\n",
       "      <td>Male</td>\n",
       "      <td>160</td>\n",
       "      <td>Azurewrath</td>\n",
       "      <td>4.40</td>\n",
       "      <td>20-24</td>\n",
       "    </tr>\n",
       "    <tr>\n",
       "      <th>Aina42</th>\n",
       "      <td>83</td>\n",
       "      <td>83</td>\n",
       "      <td>25</td>\n",
       "      <td>Male</td>\n",
       "      <td>12</td>\n",
       "      <td>Dawne</td>\n",
       "      <td>1.02</td>\n",
       "      <td>25-29</td>\n",
       "    </tr>\n",
       "    <tr>\n",
       "      <th>Aina42</th>\n",
       "      <td>363</td>\n",
       "      <td>363</td>\n",
       "      <td>25</td>\n",
       "      <td>Male</td>\n",
       "      <td>45</td>\n",
       "      <td>Glinting Glass Edge</td>\n",
       "      <td>3.85</td>\n",
       "      <td>25-29</td>\n",
       "    </tr>\n",
       "    <tr>\n",
       "      <th>Aina42</th>\n",
       "      <td>373</td>\n",
       "      <td>373</td>\n",
       "      <td>25</td>\n",
       "      <td>Male</td>\n",
       "      <td>103</td>\n",
       "      <td>Singed Scalpel</td>\n",
       "      <td>4.35</td>\n",
       "      <td>25-29</td>\n",
       "    </tr>\n",
       "  </tbody>\n",
       "</table>\n",
       "</div>"
      ],
      "text/plain": [
       "             index  Purchase ID  Age Gender  Item ID  \\\n",
       "SN                                                     \n",
       "Lisosia93       74           74   25   Male       89   \n",
       "Lisosia93      120          120   25   Male       24   \n",
       "Lisosia93      224          224   25   Male      157   \n",
       "Lisosia93      603          603   25   Male      141   \n",
       "Lisosia93      609          609   25   Male       40   \n",
       "Iral74         128          128   21   Male       58   \n",
       "Iral74         623          623   21   Male      114   \n",
       "Iral74         758          758   21   Male      182   \n",
       "Iral74         776          776   21   Male      164   \n",
       "Idastidru52    290          290   24   Male      147   \n",
       "Idastidru52    490          490   24   Male      148   \n",
       "Idastidru52    543          543   24   Male      121   \n",
       "Idastidru52    676          676   24   Male      111   \n",
       "Iri67          137          137   20   Male      179   \n",
       "Iri67          161          161   20   Male        3   \n",
       "Iri67          551          551   20   Male      160   \n",
       "Aina42          83           83   25   Male       12   \n",
       "Aina42         363          363   25   Male       45   \n",
       "Aina42         373          373   25   Male      103   \n",
       "\n",
       "                                      Item Name  Price Age Group  \n",
       "SN                                                                \n",
       "Lisosia93     Blazefury, Protector of Delusions   4.64     25-29  \n",
       "Lisosia93                         Warped Fetish   3.81     25-29  \n",
       "Lisosia93               Spada, Etcher of Hatred   4.80     25-29  \n",
       "Lisosia93                            Persuasion   3.19     25-29  \n",
       "Lisosia93                         Second Chance   2.52     25-29  \n",
       "Iral74        Freak's Bite, Favor of Holy Might   4.14     20-24  \n",
       "Iral74                       Yearning Mageblade   3.82     20-24  \n",
       "Iral74                                Toothpick   4.03     20-24  \n",
       "Iral74                         Exiled Doomblade   1.63     20-24  \n",
       "Idastidru52   Hellreaver, Heirloom of Inception   4.93     20-24  \n",
       "Idastidru52  Warmonger, Gift of Suffering's End   4.03     20-24  \n",
       "Idastidru52                            Massacre   1.60     20-24  \n",
       "Idastidru52                        Misery's End   4.89     20-24  \n",
       "Iri67           Wolf, Promise of the Moonwalker   4.48     20-24  \n",
       "Iri67                              Phantomlight   2.49     20-24  \n",
       "Iri67                                Azurewrath   4.40     20-24  \n",
       "Aina42                                    Dawne   1.02     25-29  \n",
       "Aina42                      Glinting Glass Edge   3.85     25-29  \n",
       "Aina42                           Singed Scalpel   4.35     25-29  "
      ]
     },
     "execution_count": 92,
     "metadata": {},
     "output_type": "execute_result"
    }
   ],
   "source": [
    "#Extract their data and put in new data frame\n",
    "purchase_data = purchase_data.set_index(\"SN\")\n",
    "top_spenders_df = pd.DataFrame(purchase_data.loc[[\"Lisosia93\",\"Iral74\", \"Idastidru52\", \"Iri67\", \"Aina42\"]])\n",
    "top_spenders_df"
   ]
  },
  {
   "cell_type": "code",
   "execution_count": null,
   "metadata": {},
   "outputs": [],
   "source": []
  }
 ],
 "metadata": {
  "kernelspec": {
   "display_name": "Python [conda env:PythonData]",
   "language": "python",
   "name": "conda-env-PythonData-py"
  },
  "language_info": {
   "codemirror_mode": {
    "name": "ipython",
    "version": 3
   },
   "file_extension": ".py",
   "mimetype": "text/x-python",
   "name": "python",
   "nbconvert_exporter": "python",
   "pygments_lexer": "ipython3",
   "version": "3.6.7"
  }
 },
 "nbformat": 4,
 "nbformat_minor": 2
}
